{
 "cells": [
  {
   "cell_type": "markdown",
   "metadata": {
    "id": "E_WPXeapxEgO"
   },
   "source": [
    "# Практическая работа №1: Моделирование стандартных дискретных сигналов\n",
    "\n",
    "Выполнил студент гр. 0304 Жиглов Дмитрий . Вариант №3."
   ]
  },
  {
   "cell_type": "markdown",
   "metadata": {
    "id": "_7Hb1lO8xEgR"
   },
   "source": [
    "## Цель работы\n",
    "\n",
    "Изучить математическое описание стандартных дискретных сигналов и овладеть программными средствами их моделирования."
   ]
  },
  {
   "cell_type": "markdown",
   "metadata": {
    "id": "B-2oQtwWxEgS"
   },
   "source": [
    "## Основные теоретические положения\n",
    "\n",
    "*Сигналом* называется физический процесс, параметры которого изменяются в соответствии с передаваемым сообщением. Cигнал является материальным носителем информации. По способу представления сигналы разделяются на две группы – *случайные* и *детерминированные*. Их описывают математической моделью или функцией, характеризующей изменение параметров сигнала.\n",
    "\n",
    "*Случайным сигналом* называют функцию времени, значения которой заранее неизвестны и могут быть предсказаны лишь с некоторой вероятностью. К основным характеристикам случайных сигналов относятся:\n",
    "\n",
    "* закон распределения (относительное время пребывания значения сигнала в определенном интервале),\n",
    "* спектральное распределение мощности.\n",
    "\n",
    "*Детерминированные сигналы* описываются аналитической функцией (задаются аналитически), и их поведение полностью известно в любой момент времени. Детерминированные сигналы в свою очередь бывают *периодическими* и *непериодическими*. Непериодические сигналы, как правило, ограничены во времени.\n",
    "\n",
    "*Периодический сигнал* - это сигнал, который повторяется во времени с определенным периодом, то есть для которого выполняется условие:\n",
    "\n",
    "$s(t)=s(t+kT)$,\n",
    "где $k$ – любое целое число, $T$ – период повторения.\n",
    "\n",
    "Пример *периодического сигнала* – гармоническое колебание, описываемое следующим выражением:\n",
    "\n",
    "$s(t)=A⋅cos(\\frac {2π⋅t} T+ϕ)$,\n",
    "где $A$ – амплитуда колебания, $ϕ$ – начальная фаза.\n",
    "\n",
    "Известно, что любой сложный периодический сигнал может быть представлен в виде суммы гармонических колебаний с частотами, кратными основной частоте $ω=\\frac {2π} T$.\n",
    "\n",
    "\n",
    "Все сигналы можно разделить на четыре группы:\n",
    "\n",
    "* аналоговые,\n",
    "* дискретные,\n",
    "* квантованные,\n",
    "* цифровые.\n",
    "\n",
    "**Аналоговый сигнал** – описывается непрерывной функцией времени. Аналоговый сигнал обеспечивает передачу данных путем непрерывного изменения во времени амплитуды, частоты или фазы. Практически все физические процессы описываются непрерывными функциями времени, поэтому представляют собой аналоговые сигналы. Для аналогового сигнала область значений и определения описывается *непрерывным множеством*.\n",
    "\n",
    "Для **дискретного сигнала** свойственно прерывистое (дискретное) изменение сигнала во времени. То есть изменения в сигнале происходят скачкообразно через некоторые промежутки времени, называемые интервалом дискретизации – $Δt$ или $Td$. *Дискретизация аналогового сигнала* состоит в том, что сигнал представляется в виде последовательности значений, взятых в дискретные моменты времени, которые называются *отсчётами (сэмплами)*.\n",
    "\n",
    "Для правильного восстановления аналогового сигнала из цифрового без искажений и потерь используется теорема отсчетов, известная как **теорема Котельникова (Найквиста-Шеннона)**.\n",
    "\n",
    "> Любой непрерывный сигнал с ограниченным спектром может быть восстановлен однозначно и без потерь по своим дискретным отсчетам, взятым с частотой строго больше удвоенной верхней частоты спектра непрерывного сигнала.\n",
    "\n",
    "Формула теоремы Котельникова:\n",
    "\n",
    "$F_s=\\frac 1 {T_s} > 2F_a$,\n",
    "где\n",
    "\n",
    "* $F_s$ - частота дискретизации сигнала,\n",
    "* $F_a$ - верхняя частота спектра аналогового сигнала.\n",
    "\n",
    "Такое определение относится к функциям времени, которые состоят из частот от нуля до $F_a$.\n",
    "\n",
    "В реальных задачах в радиотехнике спектр сигнала может лежать в любом диапазоне частот и начинаться и заканчиваться на любой частоте, в связи с этим определение Теоремы Котельникова правильно рассматривать относительно ширины спектра такого сигнала:\n",
    "\n",
    "> Любой непрерывный сигнал с ограниченным спектром может быть восстановлен однозначно и без потерь по своим дискретным отсчетам, взятым с частотой строго больше удвоенной ширины полосы частот, занимаемой спектром непрерывного сигнала.\n",
    "\n",
    "$F_s= \\frac 1 {T_s} > 2Δf$,\n",
    "где $Δf$ - ширина спектра непрерывного сигнала.\n",
    "\n",
    "**Квантованные сигналы** принимают ряд конечных значений из диапазона непрерывных или дискретных величин. Как правило, сигналы квантуются по уровню, то есть по амплитуде.\n",
    "\n",
    "**Цифровые сигналы** получаются из аналоговых с помощью операций **дискретизации** и **квантования** по уровню. Значениям цифрового сигнала присваивается кодовое слово или набор символов (зачастую двоичных).\n",
    "\n",
    "Устройства, осуществляющие дискретизацию по времени и квантование по уровню, называются **аналого-цифровыми преобразователями (АЦП)**. Устройства, переводящие цифровой сигнал в аналоговый называются **цифро-аналоговыми преобразователями (ЦАП)**.\n",
    "\n",
    "**Дискретной последовательностью** называется математическая модель дискретного сигнала, представляющая собой решетчатую функцию: $x(nT) = x(n)$, где $T$ – интервал дискретизации, $n = 0, 1, 2, ..., N-1$ - отсчёты или сэмплы.\n",
    "\n",
    "В теории ЦОС термины «дискретный сигнал» и «последовательность» употребляют в тождественном смысле.\n",
    "\n",
    "**Частота дискретизации** $F_d=\\frac 1 T$, где $T$ - период дискретизации. **Частота Найквиста**: $\\frac {F_d} 2$."
   ]
  },
  {
   "cell_type": "markdown",
   "metadata": {
    "id": "yAwu253nxEgT"
   },
   "source": [
    "## Постановка задачи\n",
    "\n",
    "С помощью программных средств провести моделирование и анализ стандартных дискретных последовательностей. Результаты подкрепить соответствующими графиками и выводами."
   ]
  },
  {
   "cell_type": "markdown",
   "metadata": {
    "id": "Go7RZtRlxEgU"
   },
   "source": [
    "# Выполнение работы\n",
    "\n",
    "Вариант: 3\n",
    "\n",
    "$N_{бр} = 3;\\\\\n",
    "N = 30 + N_{бр} \\mod 5 = 33;\\\\\n",
    "T = 0.0005 (1 + N_{бр} \\mod 3) = 0.0005;\\\\\n",
    "a = (-1)^{N_{бр}}(0.8+0.005(N_{бр} \\mod 20)) = -0.815;\\\\\n",
    "C=1 + N_{бр} \\mod 5 = 4;\\\\\n",
    "\\hat {\\omega_0} = \\frac {\\pi} {6 + N_{бр} \\mod 5} = \\frac \\pi 9;\\\\\n",
    "m = 5 + N_{бр} \\mod 5 = 8$"
   ]
  },
  {
   "cell_type": "code",
   "execution_count": 9,
   "metadata": {
    "id": "9ubr_qb023tp"
   },
   "outputs": [],
   "source": [
    "import math\n",
    "import cmath\n",
    "import matplotlib.pyplot as plt\n",
    "import numpy as np\n",
    "import matplotlib.pyplot as plt"
   ]
  },
  {
   "cell_type": "code",
   "execution_count": 10,
   "metadata": {
    "id": "naWZNgNy19uN"
   },
   "outputs": [],
   "source": [
    "N = 33\n",
    "T = 0.0005\n",
    "a = -0.815\n",
    "C = 4\n",
    "w0 = math.pi/9\n",
    "m = 8"
   ]
  },
  {
   "cell_type": "markdown",
   "metadata": {
    "id": "1yGdpE-C1RpQ"
   },
   "source": [
    "#### 1.Смоделировать единичный цифровой импульс $\\delta_d(k)$ с выводом графиков на интервале дискретного времени $nT \\in [0,(N-1)T]$ и дискретного нормированного времени $n \\in [0,N-1]$. Пояснить:\n",
    "\n",
    "* взаимосвязь между дискретным и дискретным нормированным временем;\n",
    "* различие между единичным цифровым импульсом и дельта-функцией."
   ]
  },
  {
   "cell_type": "markdown",
   "metadata": {
    "id": "VESVGiFr4N-y"
   },
   "source": [
    "**_Единичный цифровой импульс $\\delta_d(k)$_** (функция $delta\\_d(k)$):\n",
    "\n",
    "$\\delta_d(k) = \\begin{cases}\n",
    "  0, k \\ne 0 \\\\\n",
    "  1, k = 0\n",
    "\\end{cases}$\n",
    "\n",
    "на интервале дискретного времени: $k=nT, nT \\in [0,(N-1)T]$ и дискретного нормированного времени: $k=n, n \\in [0,N-1]$."
   ]
  },
  {
   "cell_type": "code",
   "execution_count": 11,
   "metadata": {
    "colab": {
     "base_uri": "https://localhost:8080/",
     "height": 314
    },
    "id": "KenCGFaM8XOr",
    "outputId": "2fe864d1-d42b-4295-cbf2-49411fb85ad1"
   },
   "outputs": [
    {
     "data": {
      "image/png": "[encoded data removed]",
      "text/plain": [
       "<Figure size 648x216 with 2 Axes>"
      ]
     },
     "metadata": {
      "needs_background": "light"
     },
     "output_type": "display_data"
    }
   ],
   "source": [
    "def delta_d(k):\n",
    "    return 1 if k == 0 else 0\n",
    "\n",
    "n = np.arange(N)\n",
    "nT = n * T\n",
    "delta_d_from_nT = np.array([delta_d(i) for i in n])\n",
    "delta_d_from_n = np.array([delta_d(i) for i in nT])\n",
    "\n",
    "fig, axes = plt.subplots(1, 2, figsize=(9, 3))\n",
    "\n",
    "axes[0].stem(nT, delta_d_from_nT, 'ro')\n",
    "axes[0].set_title(\"delta_d(nT)\")\n",
    "axes[0].set_xlabel(\"Time\")\n",
    "axes[0].set_ylabel(\"Amplitude\")\n",
    "axes[0].grid(True)\n",
    "\n",
    "axes[1].stem(n, delta_d_from_n, 'ro')\n",
    "axes[1].set_title(\"delta_d(n)\")\n",
    "axes[1].set_xlabel(\"Time\")\n",
    "axes[1].set_ylabel(\"Amplitude\")\n",
    "axes[1].grid(True)\n",
    "\n",
    "plt.tight_layout()\n",
    "plt.show()\n",
    "\n"
   ]
  },
  {
   "cell_type": "markdown",
   "metadata": {
    "id": "25NV_qrEA6Wt"
   },
   "source": [
    "* Дискретное время - $nT$ - время $n$-го отсчета, а $n$ - дискретное нормированное время (тождественно $T=1$): $x(nT)=x(n)$.\n",
    "* Различием между цифровым единичным импульсом и дельта-функцией является то, что у единичного импульса амплитуда равна единице, а у дельта-функции – бесконечности. Из-за этого дельта-функция на практике не\n",
    "реализуема. Кроме того, дельта-функция бесконечно узкая и при этом имеет\n",
    "площадь, равную единице.\n",
    "Дельта-функция – аналоговая, цифровой единичный импульс –\n",
    "дискретный.\n",
    "\n",
    "---"
   ]
  },
  {
   "cell_type": "markdown",
   "metadata": {
    "id": "3sWOjRs84kf0"
   },
   "source": [
    "#### 2. Смоделировать дискретный единичный скачок $σ_d(k)$ с выводом графиков на интервале дискретного времени $nT∈[0,(N−1)T]$ и дискретного нормированного времени $n∈[0,N−1]$. Пояснить:\n",
    "- соответствие между дискретным и аналоговым единичными скачками;\n",
    "- чему равна частота дискретизации дискретного единичного скачка."
   ]
  },
  {
   "cell_type": "markdown",
   "metadata": {
    "id": "BlpbahEzXuf4"
   },
   "source": [
    "**_Дискретный единичный скачок $σ_d(k)$_** (функция $sigma\\_d(k)$):\n",
    "\n",
    "$σ_d(k) = \\begin{cases}\n",
    "  0, k < 0 \\\\\n",
    "  1, k \\ge 0\n",
    "\\end{cases}$\n",
    "\n",
    "на интервале дискретного времени: $k=nT, nT \\in [0,(N-1)T]$ и дискретного нормированного времени: $k=n, n \\in [0,N-1]$."
   ]
  },
  {
   "cell_type": "code",
   "execution_count": 16,
   "metadata": {
    "colab": {
     "base_uri": "https://localhost:8080/",
     "height": 314
    },
    "id": "d1c2dCHp-jQg",
    "outputId": "281bbaa7-7094-4da8-f118-343f75dee20d"
   },
   "outputs": [
    {
     "data": {
      "image/png": "[encoded data removed]",
      "text/plain": [
       "<Figure size 648x216 with 2 Axes>"
      ]
     },
     "metadata": {
      "needs_background": "light"
     },
     "output_type": "display_data"
    }
   ],
   "source": [
    "import numpy as np\n",
    "import matplotlib.pyplot as plt\n",
    "\n",
    "def sigma_d(k):\n",
    "    return np.where(k >= 0, 1, 0)\n",
    "\n",
    "n = np.arange(N)\n",
    "nT = n * T\n",
    "sigma_d_from_nT = sigma_d(nT)\n",
    "sigma_d_from_n = sigma_d(n)\n",
    "\n",
    "fig, axes = plt.subplots(1, 2, figsize=(9, 3))\n",
    "\n",
    "axes[0].stem(nT, sigma_d_from_nT, 'ro')\n",
    "axes[0].set_title(\"sigma_d(nT)\")\n",
    "axes[0].set_xlabel(\"Time\")\n",
    "axes[0].set_ylabel(\"Amplitude\")\n",
    "axes[0].grid(True)\n",
    "\n",
    "axes[1].stem(n, sigma_d_from_n, 'ro')\n",
    "axes[1].set_title(\"sigma_d(n)\")\n",
    "axes[1].set_xlabel(\"Time\")\n",
    "axes[1].set_ylabel(\"Amplitude\")\n",
    "axes[1].grid(True)\n",
    "\n",
    "plt.tight_layout()\n",
    "plt.show()"
   ]
  },
  {
   "cell_type": "markdown",
   "metadata": {
    "id": "P9jDbiSS3pO7"
   },
   "source": [
    "* Соответствие между цифровым и аналоговым единичными скачками заключается в том, что цифровой единичный скачок получается путем дискретизации аналогового единичного скачка.\n",
    "\n",
    "Реальный аналоговый сигнал можно приближенно представить  некоторой суммой единичных скачков, возникающих в последовательные моменты времени. Устремив к нулю длительность интервала времени между единичными скачками, в пределе будет получаться точная огибающая реального исходного сигнала.\n",
    "\n",
    "* Частота дискретизации рассматриваемого единичного скачка с заданным периодом дискретизации: $f = \\frac 1 T = \\frac 1 {0.0005} = 2000$.\n",
    "\n",
    "Для правильного восстановления аналогового сигнала из цифрового без искажений и потерь используется теорема отсчетов, известная как **теорема Котельникова (Найквиста-Шеннона)**.\n",
    "\n",
    "> Любой непрерывный сигнал с ограниченным спектром может быть восстановлен однозначно и без потерь по своим дискретным отсчетам, взятым с частотой строго больше удвоенной верхней частоты спектра непрерывного сигнала.\n",
    "\n",
    "*Формула теоремы Котельникова:*\n",
    "\n",
    "$f_s = \\frac 1 {T_s} > 2 f_a$, где\n",
    "$f_s$ - частота дискретизации сигнала,\n",
    "$f_a$ - верхняя частота спектра аналогового сигнала.\n",
    "\n",
    "---"
   ]
  },
  {
   "cell_type": "markdown",
   "metadata": {
    "id": "9EQj1-gK1sjI"
   },
   "source": [
    "#### 3. Смоделировать дискретную экспоненциальную функцию $s_1(k)$ с выводом графиков на интервале дискретного времени $nT∈[0,(N−1)T]$ и дискретного нормированного времени $n∈[0,N−1]$. Пояснить соответствие между дискретной и аналоговой экспонентами."
   ]
  },
  {
   "cell_type": "markdown",
   "metadata": {
    "id": "JQwgL91NXFVP"
   },
   "source": [
    "**_Дискретная экспоненциальная функция $s_1(n)$_** (функция $s1\\_d(n)$):\n",
    "\n",
    "$s_1(n) = \\begin{cases}\n",
    "  0, n < 0 \\\\\n",
    "  a^n, n \\ge 0\n",
    "\\end{cases}$\n",
    "\n",
    "на интервале дискретного времени: $nT \\in [0,(N-1)T]$ и дискретного нормированного времени: $n \\in [0,N-1]$."
   ]
  },
  {
   "cell_type": "code",
   "execution_count": 32,
   "metadata": {
    "colab": {
     "base_uri": "https://localhost:8080/",
     "height": 468
    },
    "id": "MeY1OHnOgX7X",
    "outputId": "7942858f-c62b-438e-8fde-b94cc4cbc971"
   },
   "outputs": [
    {
     "data": {
      "image/png": "[encoded data removed]",
      "text/plain": [
       "<Figure size 720x360 with 2 Axes>"
      ]
     },
     "metadata": {
      "needs_background": "light"
     },
     "output_type": "display_data"
    }
   ],
   "source": [
    "import numpy as np\n",
    "def s1_d(n):\n",
    "  return np.where(n >= 0, a ** n, 0)\n",
    "\n",
    "n = [i for i in range(N)]\n",
    "nT = [i * T for i in range(N)]\n",
    "s1_d_from_nT = [s1_d(i) for i in n]\n",
    "s1_d_from_n = [s1_d(i) for i in n]\n",
    "\n",
    "figure, axis = plt.subplots(1, 2, figsize=(10, 5))\n",
    "\n",
    "axis[0].stem(nT, s1_d_from_nT, 'ro', basefmt='k-')\n",
    "axis[0].set_title(\"s1_d(nT)\")\n",
    "axis[0].grid(True) \n",
    "\n",
    "\n",
    "axis[1].stem(n, s1_d_from_n, 'ro', basefmt='k-')\n",
    "axis[1].set_title(\"s1_d(n)\")\n",
    "axis[1].grid(True)  \n",
    "\n",
    "plt.show()"
   ]
  },
  {
   "cell_type": "markdown",
   "metadata": {
    "id": "Gxy-UbUOjDEg"
   },
   "source": [
    "Ординаты дискретной экспоненты совпадают с ординатами аналоговой экспоненты $a^n$, где $a$ - основание экспоненты, $n \\in Ζ$.\n",
    "\n",
    "Дискретная экспонента (экспоненциальная последовательность) образуется в результате дискретизации экспоненты.\n",
    "\n",
    "Вид дискретной экспоненты определяется величиной и знаком параметра $a$:\n",
    "- при $|a| > 1$ функция по модулю неограниченно растет,\n",
    "- при $|a| < 1$ – функция ограничена,\n",
    "\n",
    "и\n",
    "\n",
    "- при $a > 0$ функция знакопостоянная,\n",
    "- при $a < 0$ – знакопеременная.\n",
    "\n",
    "---"
   ]
  },
  {
   "cell_type": "markdown",
   "metadata": {
    "id": "lhZsI48F1vDA"
   },
   "source": [
    "#### 4. Смоделировать дискретный комплексный гармонический сигнал $s_2(n) = C e^ {j\\hat w_0 n}$ с выводом графиков вещественной и мнимой частей на интервале  времени $n \\in [0,N−1]$. Записать данный сигнал в виде комбинации двух вещественных последовательностей."
   ]
  },
  {
   "cell_type": "markdown",
   "metadata": {
    "id": "EMcNOq9AqdN0"
   },
   "source": [
    "**_Дискретный комплексный гармонический сигнал $s_2(n)$_** (функция $s2\\_d(n)$):\n",
    "\n",
    "$s_2(n) = C e^ {j\\hat w_0 n}$\n",
    "\n",
    "на интервале времени: $n \\in [0,N-1]$"
   ]
  },
  {
   "cell_type": "code",
   "execution_count": 36,
   "metadata": {
    "colab": {
     "base_uri": "https://localhost:8080/",
     "height": 699
    },
    "id": "JpBLVeKHmWHb",
    "outputId": "1fd81616-303d-4e60-d1a2-fdf0df6fd59f"
   },
   "outputs": [
    {
     "data": {
      "image/png": "[encoded data removed]",
      "text/plain": [
       "<Figure size 432x576 with 2 Axes>"
      ]
     },
     "metadata": {
      "needs_background": "light"
     },
     "output_type": "display_data"
    }
   ],
   "source": [
    "\n",
    "def s2_d(n):\n",
    "    return C * cmath.exp(1j * w0 * n)\n",
    "\n",
    "n = [i for i in range(N)]\n",
    "s2_d_complex = [s2_d(i) for i in n]\n",
    "\n",
    "figure, axis = plt.subplots(2, 1, figsize=(6, 8))\n",
    "\n",
    "axis[0].stem(n, [val.real for val in s2_d_complex], 'ro')\n",
    "axis[0].set_title(\"Real part of s2_d(n)\")\n",
    "axis[0].grid(True)\n",
    "\n",
    "axis[1].stem(n, [val.imag for val in s2_d_complex], 'ro')\n",
    "axis[1].set_title(\"Imaginary part of s2_d(n)\")\n",
    "axis[1].grid(True)\n",
    "\n",
    "plt.show()"
   ]
  },
  {
   "cell_type": "markdown",
   "metadata": {
    "id": "nLeWeyvClk9T"
   },
   "source": [
    "_**Представление сигнала в виде комбинации двух вещественных последовательностей:**_\n",
    "\n",
    "$Re(s_2(n))=С \\cdot cos(w_0 \\cdot n \\cdot T)$\n",
    "\n",
    "$Im(s_2(n))=С \\cdot sin(w_0 \\cdot n \\cdot T)$\n",
    "\n",
    "$s_2(n) = Re + Im = C \\cdot (cos(w_0nT)+sin(w_0nT))$\n",
    "\n",
    "---"
   ]
  },
  {
   "cell_type": "markdown",
   "metadata": {
    "id": "PB8ZmHhW1xig"
   },
   "source": [
    "#### 5. Вывести графики последовательностей $δ_d(k)$,$σ_d(k)$ и $s_1(k)$, задержанных на $m$ отсчетов, на интервале времени $n∈[0,N−1]$. Записать формулы задержанных последовательностей."
   ]
  },
  {
   "cell_type": "code",
   "execution_count": 39,
   "metadata": {
    "colab": {
     "base_uri": "https://localhost:8080/",
     "height": 930
    },
    "id": "GGelg11r-zxE",
    "outputId": "f18cc76e-1c00-49f4-ec5b-62e7ba1ae732"
   },
   "outputs": [
    {
     "data": {
      "image/png": "[encoded data removed]",
      "text/plain": [
       "<Figure size 576x792 with 3 Axes>"
      ]
     },
     "metadata": {
      "needs_background": "light"
     },
     "output_type": "display_data"
    }
   ],
   "source": [
    "def delta_d_delayed(k):\n",
    "    return np.where(k == m, 1, 0)\n",
    "\n",
    "def sigma_d_delayed(k):\n",
    "    return np.where(k >= m, 1, 0)\n",
    "\n",
    "def s1_d_delayed(k):\n",
    "    return np.where(k >= m, a ** (k - m), 0)\n",
    "\n",
    "n = np.arange(N)\n",
    "delta_d_delayed_from_n = delta_d_delayed(n)\n",
    "sigma_d_delayed_from_n = sigma_d_delayed(n)\n",
    "s1_d_delayed_from_n = s1_d_delayed(n)\n",
    "\n",
    "titles = [\"delta_d_delayed(n)\", \"sigma_d_delayed(n)\", \"s1_d_delayed(n)\"]\n",
    "\n",
    "figure, axis = plt.subplots(3, 1, figsize=(8, 11))\n",
    "\n",
    "for i, data in enumerate([delta_d_delayed_from_n, sigma_d_delayed_from_n, s1_d_delayed_from_n]):\n",
    "    axis[i].stem(n, data, 'ro')\n",
    "    axis[i].set_title(titles[i])\n",
    "\n",
    "plt.show()"
   ]
  },
  {
   "cell_type": "markdown",
   "metadata": {
    "id": "RFFdM2HuxEgX"
   },
   "source": [
    "## Выводы\n",
    "\n",
    "В ходе выполнение лабораторной работы были изучены функции: единичный цифровой импульс, единичный скачок, дискретная экспоненциальная функция и дискретный комплексный гармонический сигнал. Для первых трех функций были построены графики зависимости от дискретного и дискретного нормированного времени, а также проанализирована взаимосвязь между ними. Кроме того, для функций единичного цифрового импульса, единичного скачка, дискретной экспоненциальной функции были построены графики, задержанные на m отсчетов, и записаны их формулы. Для комплексного гармонического сигнала были построены графики вещественной и комплексной части. Таким образом, в ходе выполнения лабораторной работы были выработаны базовые навыки работы с сигналами: нормировка времени, отображение графиков, рассчет частоты сигнала, работа с комплексной частью сигнала."
   ]
  }
 ],
 "metadata": {
  "colab": {
   "provenance": []
  },
  "kernelspec": {
   "display_name": "Python 3",
   "language": "python",
   "name": "python3"
  },
  "language_info": {
   "codemirror_mode": {
    "name": "ipython",
    "version": 3
   },
   "file_extension": ".py",
   "mimetype": "text/x-python",
   "name": "python",
   "nbconvert_exporter": "python",
   "pygments_lexer": "ipython3",
   "version": "3.7.10"
  }
 },
 "nbformat": 4,
 "nbformat_minor": 1
}
