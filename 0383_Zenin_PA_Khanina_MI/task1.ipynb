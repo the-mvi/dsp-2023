{
 "cells": [
  {
   "cell_type": "markdown",
   "metadata": {},
   "source": [
    "# Практическая работа №1: Моделирование стандартных дискретных сигналов\n",
    "\n",
    "Выполнили студенты гр. 0383 Зенин Пётр и Ханина Мария. Вариант №20."
   ]
  },
  {
   "cell_type": "markdown",
   "metadata": {},
   "source": [
    "## Цель работы\n",
    "\n",
    "Изучить математическое описание стандартных дискретных сигналов и овладеть программными средствами их моделирования."
   ]
  },
  {
   "cell_type": "markdown",
   "metadata": {},
   "source": [
    "## Основные теоретические положения\n",
    "\n",
    "**Аналоговый сигнал** &ndash; сигнал, непрерывный по времени\n",
    "\n",
    "**Дискретный сигнал** &ndash; сингал, дискретный по времени и непрерывный по значению\n",
    "\n",
    "**Цифровой сигнал** &ndash; сигнал, дискретный по времени и значению\n",
    "\n",
    "**Частота дискретизации** ($f_d$) &ndash; частота, с которой берутся отсчёты непрерывного сигнала\n",
    "\n",
    "Значения $nT$ $(T=\\frac{1}{f_d})$ &ndash; **дискретное время**\n",
    "\n",
    "Значения $n\\cdot(T=1)$ &ndash; **дискретное нормированное время$\n",
    "\n",
    "**Единичный цифровой импульс** &ndash; является дискретным аналогом дельта-функции Дирака\n",
    "\n",
    "\n",
    "$$\\delta_d(k)=\\begin{cases}\n",
    "1, \\text{ }k=0\\\\\n",
    "0, \\text{ }k\\neq0\n",
    "\\end{cases}, \\text{ }k \\in \\mathbb{Z}\n",
    "$$\n",
    "\n",
    "**Дискретный единичный скачок** &ndash; является дискретным аналогом функции Хевисайда\n",
    "\n",
    "$$\\sigma_d(k) = \\begin{cases}\n",
    "1, \\text{ }k\\geq0,\\\\\n",
    "0, \\text{ }k<0\n",
    "\\end{cases}, \\text{ }k \\in \\mathbb{Z}\n",
    "$$\n",
    "\n",
    "**Дискретная экспоненциальная функция** &ndash; является дискретным аналогом экспоненциальной функции\n",
    "\n",
    "$$ \n",
    "s_1(k) = \\begin{cases}\n",
    "0, \\text{ }k<0,\\\\\n",
    "a^k, \\text{ }k\\geq0\n",
    "\\end{cases}, \\text{ }k \\in \\mathbb{Z}\n",
    "$$\n",
    "\n",
    "**Дискретный комплексный гармонический сигнал**:\n",
    "\n",
    "$$s_2(k) = C\\exp{(j\\hat{w}_0k)}, \\text{ }k \\in \\mathbb{Z}$$\n",
    "\n"
   ]
  },
  {
   "cell_type": "markdown",
   "metadata": {},
   "source": [
    "## Постановка задачи\n",
    "\n",
    "С помощью программных средств провести моделирование и анализ стандартных дискретных последовательностей. Результаты подкрепить соответствующими графиками и выводами."
   ]
  },
  {
   "cell_type": "markdown",
   "metadata": {},
   "source": [
    "## Выполнение работы\n",
    "\n",
    "Вариант 20\n",
    "\n",
    "Длина последовательности: $N=30$\n",
    "\n",
    "Период дискретизации: $T=0.0015$\n",
    "\n",
    "Основание экспоненты: $a=0.8$\n",
    "\n",
    "Амплитуда гармонического сигнала: $C=1$\n",
    "\n",
    "Частота гармнического сигнала: $\\hat{w} = \\frac{\\pi}{6}$\n",
    "\n",
    "Задержка: $m = 5$"
   ]
  },
  {
   "cell_type": "code",
   "execution_count": 1,
   "metadata": {},
   "outputs": [],
   "source": [
    "#Импорт библиотек и задание переменных в соответствии с условием\n",
    "\n",
    "import matplotlib.pyplot as plt\n",
    "import numpy as np\n",
    "\n",
    "Nb = 20\n",
    "\n",
    "N = 30 + Nb % 5\n",
    "T = 0.0005 * (1 + Nb % 3)\n",
    "a = (-1)**Nb * (0.8 + 0.005 * (Nb % 20))\n",
    "C = 1 + Nb % 5\n",
    "w0 = np.pi / (6 + Nb % 5)\n",
    "m = 5 + Nb % 5"
   ]
  },
  {
   "cell_type": "markdown",
   "metadata": {},
   "source": [
    "1. Смоделировать единичный цифровой импульс $\\delta_d(k)$ с выводом графиков на интервале дискретного времени $nT \\in [0, (N-1)T]$ и дискретного нормированного времени $n \\in [0, N-1]$.\n",
    "\n",
    "Пояснить:<br>\n",
    "\n",
    "    a. взаимосвязь между дискретным и дискретным нормированным временем\n",
    "    b. различие между единичным цифровым импульсом и дельта-функцией."
   ]
  },
  {
   "cell_type": "code",
   "execution_count": 4,
   "metadata": {},
   "outputs": [
    {
     "data": {
      "text/plain": [
       "Text(0, 0.5, 'delta_d(k)')"
      ]
     },
     "execution_count": 4,
     "metadata": {},
     "output_type": "execute_result"
    },
    {
     "data": {
      "image/png": "[encoded data removed]",
      "text/plain": [
       "<Figure size 864x432 with 2 Axes>"
      ]
     },
     "metadata": {
      "needs_background": "light"
     },
     "output_type": "display_data"
    }
   ],
   "source": [
    "data = [0]*N\n",
    "data[0] = 1\n",
    "\n",
    "normt = np.arange(0,N,1)\n",
    "disct = normt*T\n",
    "\n",
    "\n",
    "plt.figure(figsize=(12,6))\n",
    "\n",
    "plt.subplot(1,2,1)\n",
    "plt.stem(disct, data, use_line_collection=True)\n",
    "plt.title(\"Дискретное время\")\n",
    "plt.xlabel(\"nT\")\n",
    "plt.ylabel(\"delta_d(k)\")\n",
    "\n",
    "\n",
    "plt.subplot(1,2,2)\n",
    "plt.stem(normt, data)\n",
    "plt.title(\"Дискретное нормированное время\")\n",
    "plt.xlabel(\"n\")\n",
    "plt.ylabel(\"delta_d(k)\")"
   ]
  },
  {
   "cell_type": "markdown",
   "metadata": {},
   "source": [
    "Были смоделированы графики единичного цифрового импульса для дискретного времени с периодом дисретизации $T$ и дискретного нормированного времени.\n",
    "\n",
    "a. Дискретное нормированное время - случай, когда период дискретизации $T = 1$.\n",
    "\n",
    "b. Единичный цифровой импульс в точке $0$  имеет значение $1$, а дельта-функция имеет значение $\\infty$."
   ]
  },
  {
   "cell_type": "markdown",
   "metadata": {},
   "source": [
    "2. Смоделировать дискретный единичный скачок $\\sigma_d(k)$ с выводом графиков на интервале дискретного времени $nT \\in [0, (N-1)T]$ и дискретного нормированного времени $n \\in [0, N-1]$. Пояснить:\n",
    "\n",
    "    a. соответствие между дискретным и аналоговым единичными скачками;<br>\n",
    "    b. чему равна частота дискретизации дискретного единичного скачка."
   ]
  },
  {
   "cell_type": "code",
   "execution_count": 5,
   "metadata": {},
   "outputs": [
    {
     "data": {
      "text/plain": [
       "Text(0, 0.5, 'sigma_d(k)')"
      ]
     },
     "execution_count": 5,
     "metadata": {},
     "output_type": "execute_result"
    },
    {
     "data": {
      "image/png": "[encoded data removed]",
      "text/plain": [
       "<Figure size 864x432 with 2 Axes>"
      ]
     },
     "metadata": {
      "needs_background": "light"
     },
     "output_type": "display_data"
    }
   ],
   "source": [
    "data = [1]*N\n",
    "\n",
    "\n",
    "normt = np.arange(0,N,1)\n",
    "disct = normt*T\n",
    "\n",
    "\n",
    "plt.figure(figsize=(12,6))\n",
    "\n",
    "plt.subplot(1,2,1)\n",
    "plt.stem(disct, data, use_line_collection=True)\n",
    "plt.title(\"Дискретное время\")\n",
    "plt.xlabel(\"nT\")\n",
    "plt.ylabel(\"sigma_d(k)\")\n",
    "\n",
    "\n",
    "plt.subplot(1,2,2)\n",
    "plt.stem(normt, data)\n",
    "plt.title(\"Дискретное нормированное время\")\n",
    "plt.xlabel(\"n\")\n",
    "plt.ylabel(\"sigma_d(k)\")"
   ]
  },
  {
   "cell_type": "markdown",
   "metadata": {},
   "source": [
    "a. Дискретный единичный скачок есть аналог функции Хевисайда. В целых значениях аргумента, функция Хэвисайда будет принимать те же значения, что и дискретный единичный скачок.\n",
    "\n",
    "b. Частота дискретизации дискретного единичного скачка равна: $f_d = \\frac{1}{T}$"
   ]
  },
  {
   "cell_type": "markdown",
   "metadata": {},
   "source": [
    "3. Смоделировать дискретную экспоненциальную функцию $s_1(k)$ с выводом графиков на интервале дискретного времени $nT \\in [0,(N-1)T]$ и дискретного нормированного времени $n \\in [0,N-1]$. Пояснить соответствие между дискретной и аналоговой экспонентами."
   ]
  },
  {
   "cell_type": "code",
   "execution_count": 6,
   "metadata": {},
   "outputs": [
    {
     "data": {
      "text/plain": [
       "Text(0, 0.5, 'sigma_d(k)')"
      ]
     },
     "execution_count": 6,
     "metadata": {},
     "output_type": "execute_result"
    },
    {
     "data": {
      "image/png": "[encoded data removed]",
      "text/plain": [
       "<Figure size 864x432 with 2 Axes>"
      ]
     },
     "metadata": {
      "needs_background": "light"
     },
     "output_type": "display_data"
    }
   ],
   "source": [
    "data_disc = np.power(np.array([a]*N),np.arange(0,N,1)*T)\n",
    "data_norm = np.power(np.array([a]*N),np.arange(0,N,1))\n",
    "\n",
    "\n",
    "normt = np.arange(0,N,1)\n",
    "disct = normt*T\n",
    "\n",
    "\n",
    "plt.figure(figsize=(12,6))\n",
    "\n",
    "plt.subplot(1,2,1)\n",
    "plt.stem(disct, data_disc)\n",
    "plt.title(\"Дискретное время\")\n",
    "plt.xlabel(\"nT\")\n",
    "plt.ylabel(\"sigma_d(k)\")\n",
    "\n",
    "\n",
    "plt.subplot(1,2,2)\n",
    "plt.stem(normt, data_norm)\n",
    "plt.title(\"Дискретное нормированное время\")\n",
    "plt.xlabel(\"n\")\n",
    "plt.ylabel(\"sigma_d(k)\")"
   ]
  },
  {
   "cell_type": "markdown",
   "metadata": {},
   "source": [
    "На области целых **неотрицальных** значений аналоговая и дискретная экспоненциальная функция равны, однако различие заключается в том, что вне целых значений дискретная экспоненциальная функция не определена. Кроме того, дискретная экспоненциальная функция имеет значение 0 на всех целых отрицательных значениях, тогда как аналоговая экспоненциальная функция будет принимать значения $a^k$."
   ]
  },
  {
   "cell_type": "markdown",
   "metadata": {},
   "source": [
    "4. Смоделировать дискретный комплексный гармонический сигнал $s_2(k) = C\\exp{(j\\hat{w}_0k)}$ с выводом графиков вещественной и мнимой частей на интервале времени $n \\in [0,N-1]$. Записать данный сигнал в виде комбинации двух вещественных последовательностей."
   ]
  },
  {
   "cell_type": "code",
   "execution_count": 14,
   "metadata": {},
   "outputs": [
    {
     "data": {
      "text/plain": [
       "Text(0, 0.5, 'Im(s2(k))')"
      ]
     },
     "execution_count": 14,
     "metadata": {},
     "output_type": "execute_result"
    },
    {
     "data": {
      "image/png": "[encoded data removed]",
      "text/plain": [
       "<Figure size 864x432 with 2 Axes>"
      ]
     },
     "metadata": {
      "needs_background": "light"
     },
     "output_type": "display_data"
    }
   ],
   "source": [
    "data = np.exp(np.arange(0,N,1)*1j*w0)\n",
    "\n",
    "\n",
    "normt = np.arange(0,N,1)\n",
    "disct = normt*T\n",
    "\n",
    "\n",
    "plt.figure(figsize=(12,6))\n",
    "\n",
    "plt.subplot(1,2,1)\n",
    "plt.stem(normt, np.real(data))\n",
    "plt.title(\"Вещественная часть\")\n",
    "plt.xlabel(\"n\")\n",
    "plt.ylabel(\"Re(s2(k))\")\n",
    "\n",
    "\n",
    "plt.subplot(1,2,2)\n",
    "plt.stem(normt, np.imag(data))\n",
    "plt.title(\"Мнимая часть\")\n",
    "plt.xlabel(\"n\")\n",
    "plt.ylabel(\"Im(s2(k))\")"
   ]
  },
  {
   "cell_type": "markdown",
   "metadata": {},
   "source": [
    "На графиках можно заметить наглядное представление формулы Эйлера:\n",
    "$$e^{i\\phi} = cos(\\phi) + isin(\\phi)$$\n",
    "\n",
    "В данном случае:\n",
    "$$C\\exp{(j\\hat{w}_0k)} = C(cos(\\hat{w}_0k) + isin(\\hat{w}_0k))$$\n",
    "\n",
    "Таким образом, значение вещественной части дискретного комплексного гармонического сигнала будут изменяться как $C\\cdot cos(\\hat{w}_0k)$, а комплексной: $C \\cdot sin(\\hat{w}_0k)$"
   ]
  },
  {
   "cell_type": "markdown",
   "metadata": {},
   "source": [
    "5. Вывести графики последовательностей $\\delta_d(k)$, $\\sigma_d(k)$ и $s_1(k)$, задержанных на $m$ отсчетов, на интервале времени $n \\in [0,N-1]$. Записать формулы задержанных последовательностей."
   ]
  },
  {
   "cell_type": "markdown",
   "metadata": {},
   "source": [
    "Формулы задержанных последовательностей:\n",
    "\n",
    "$$\\delta_d(k)=\\begin{cases}\n",
    "1, \\text{ }k=m\\\\\n",
    "0, \\text{ }k\\neq m\n",
    "\\end{cases}, \\text{ }k \\in \\mathbb{Z}\n",
    "$$\n",
    "\n",
    "$$\\sigma_d(k) = \\begin{cases}\n",
    "1, \\text{ }k\\geq m,\\\\\n",
    "0, \\text{ }k<m\n",
    "\\end{cases}, \\text{ }k \\in \\mathbb{Z}\n",
    "$$\n",
    "\n",
    "$$ \n",
    "s_1(k) = \\begin{cases}\n",
    "0, \\text{ }k<m,\\\\\n",
    "a^{k-m}, \\text{ }k\\geq m\n",
    "\\end{cases}, \\text{ }k \\in \\mathbb{Z}\n",
    "$$\n"
   ]
  },
  {
   "cell_type": "code",
   "execution_count": 20,
   "metadata": {},
   "outputs": [
    {
     "data": {
      "text/plain": [
       "Text(0, 0.5, 's1(k-m)')"
      ]
     },
     "execution_count": 20,
     "metadata": {},
     "output_type": "execute_result"
    },
    {
     "data": {
      "image/png": "[encoded data removed]",
      "text/plain": [
       "<Figure size 864x432 with 3 Axes>"
      ]
     },
     "metadata": {
      "needs_background": "light"
     },
     "output_type": "display_data"
    }
   ],
   "source": [
    "delta_norm = ([0]*N)\n",
    "delta_norm[m] = 1\n",
    "sigma_norm = [0]*m + [1]*(N-m)\n",
    "s1_norm = np.concatenate((np.array([0]*m),np.power(np.array([a]*(N-m)),np.arange(0,N-m,1))))\n",
    "\n",
    "\n",
    "normt = np.arange(0,N,1)\n",
    "disct = normt*T\n",
    "\n",
    "\n",
    "plt.figure(figsize=(12,6))\n",
    "\n",
    "plt.subplot(1,3,1)\n",
    "plt.stem(normt, delta_norm)\n",
    "plt.title(\"Задержанная delta_d(k)\")\n",
    "plt.xlabel(\"n\")\n",
    "plt.ylabel(\"delta_d(k-m)\")\n",
    "\n",
    "\n",
    "plt.subplot(1,3,2)\n",
    "plt.stem(normt, sigma_norm)\n",
    "plt.title(\"Задержанная sigma_d(k)\")\n",
    "plt.xlabel(\"n\")\n",
    "plt.ylabel(\"sigma_d(k-m)\")\n",
    "\n",
    "\n",
    "plt.subplot(1,3,3)\n",
    "plt.stem(normt, s1_norm)\n",
    "plt.title(\"Задержанная s_1(k)\")\n",
    "plt.xlabel(\"n\")\n",
    "plt.ylabel(\"s1(k-m)\")"
   ]
  },
  {
   "cell_type": "markdown",
   "metadata": {},
   "source": [
    "## Выводы\n",
    "\n",
    "В ходе практической работы были изучены и применены матесматические сведения о сигналах для проргаммного моделирования дискретных сигналов. В результате выполнения данной работы были изучены и построены графики различных видов дискретных функций (единичного дискретного импульса, дискретного единичного скачка, дискретной экспоненциальной функции, дискретного комплексного гармонического сигнала), исследована связь дискретного и дискретного нормированного времени, показана связь дискретных сигналов и их аналоговых вариантов."
   ]
  }
 ],
 "metadata": {
  "kernelspec": {
   "display_name": "Python 3",
   "language": "python",
   "name": "python3"
  },
  "language_info": {
   "codemirror_mode": {
    "name": "ipython",
    "version": 3
   },
   "file_extension": ".py",
   "mimetype": "text/x-python",
   "name": "python",
   "nbconvert_exporter": "python",
   "pygments_lexer": "ipython3",
   "version": "3.7.16"
  }
 },
 "nbformat": 4,
 "nbformat_minor": 4
}
